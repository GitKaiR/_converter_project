{
 "cells": [
  {
   "cell_type": "code",
   "execution_count": 2,
   "metadata": {},
   "outputs": [],
   "source": [
    "import pandas as pd\n",
    "import os.path \n",
    "import csv\n",
    "from interface import input_path, input_load_date\n",
    "from datetime import datetime, timedelta    \n",
    "from routes_export import export_new_routes_files\n",
    "pd.options.mode.chained_assignment = None\n",
    "from interface import * \n",
    "from fix_routes_converter  import *\n",
    "from flex_routes_converter import *\n",
    "from tl_routes_converter import *\n",
    "from HnN_routes_converter import *\n",
    "from routes_export import *\n",
    "from time import sleep\n"
   ]
  },
  {
   "cell_type": "code",
   "execution_count": 3,
   "metadata": {},
   "outputs": [
    {
     "name": "stdout",
     "output_type": "stream",
     "text": [
      "\n",
      "Данные сохранены в файл: C:\\Users\\ROKOTYEV\\Desktop\\Тест 2\\Маршруты HnN\\Test\\DMT_User273_SetClientServiceMatrix_Batch.txt\n"
     ]
    }
   ],
   "source": [
    "PATH = r\"C:\\Users\\ROKOTYEV\\Desktop\\Тест 2\\Копия Формат - Фиксированные маршруты от HN_.xlsx\"\n",
    "DATE_OF_LOAD = '28.11.2023'\n",
    "\n",
    "df_rtm  = HnN_import_rtm_file(PATH)        \n",
    "df_rtm = HnN_rename_columns(df_rtm)  \n",
    "df_rtm = HnN_filtering_rtm(df_rtm)     \n",
    "df_rtm = check_wrong_order_type(df_rtm) \n",
    "df_rtm = check_wrong_route_type(df_rtm)       \n",
    "df_rtm = HnN_unpivot_rtm(df_rtm)\n",
    "df_calender = HnN_create_calender(DATE_OF_LOAD)\n",
    "df_routes_HnN_fix = HnN_converting_FIX_rtm_to_routes(df_rtm, df_calender)\n",
    "df_routes_HnN_flex = HnN_converting_FLEX_rtm_to_routes(df_rtm)\n",
    "df_routes = HnN_union_FLEX_n_FIX_routes(df_routes_HnN_fix, df_routes_HnN_flex)\n",
    "df_routes = add_empty_shipto_HnN(df_routes, DATE_OF_LOAD)\n",
    "df_routes = route_type_substitution(df_routes)\n",
    "df_routes = errors_correction(df_routes)\n",
    "\n",
    "export_new_routes_files(df_routes, PATH, 'Маршруты HnN','', 'Test')      \n",
    "\n",
    "\n"
   ]
  },
  {
   "cell_type": "code",
   "execution_count": null,
   "metadata": {},
   "outputs": [],
   "source": [
    "df_rtm  = HnN_import_rtm_file(PATH)        \n",
    "df_rtm = HnN_rename_columns(df_rtm) \n",
    "df_rtm = HnN_filtering_rtm(df_rtm)  \n",
    "df_rtm"
   ]
  },
  {
   "cell_type": "code",
   "execution_count": null,
   "metadata": {},
   "outputs": [],
   "source": [
    "df_routes_in_case = df_routes.groupby(by=['AGENCY_NAME', 'ROUTE_NAME', 'EXT_ROUTE_ID','ROUTE_TYPE']).agg('size').reset_index().drop(columns=0)\n",
    "df_routes_in_case['FIRST_VISIT_DATE'] = pd.to_datetime(DATE_OF_LOAD, format='%d.%m.%Y')\n",
    "df_routes_in_case['FIRST_VISIT_DATE'] = df_routes_in_case['FIRST_VISIT_DATE'].astype(str)\n",
    "df_routes_in_case['REPEAT_DAYS']    = '7'\n",
    "df_routes_in_case['VISIT_NUMBER']   = '1'\n",
    "df_routes_in_case['VISIT_DURATION'] = '130' \n",
    "df_routes_in_case['SHIP_TO'] = ''\n",
    "df_routes_in_case[['WEEKDAY_NUMBER', 'DAY_NAME', 'WEEK_NUMBER', 'WEEK_1234_ORDER', 'PHOTOS_TARGET', 'DOCUMENTS_TARGET', 'PHOTOAUDIT_TARGET', 'END_DATE']] = ''\n",
    "df_routes_in_case = df_routes_in_case[['SHIP_TO', 'ROUTE_NAME', 'FIRST_VISIT_DATE', 'WEEKDAY_NUMBER', 'DAY_NAME', 'WEEK_NUMBER', 'WEEK_1234_ORDER', 'EXT_ROUTE_ID',  'VISIT_NUMBER', 'AGENCY_NAME', 'VISIT_DURATION', 'ROUTE_TYPE',  'PHOTOS_TARGET', 'DOCUMENTS_TARGET', 'PHOTOAUDIT_TARGET', 'END_DATE',  'REPEAT_DAYS']]\n",
    "\n",
    "df_routes['FIRST_VISIT_DATE'] = df_routes['FIRST_VISIT_DATE'].astype(str)\n",
    "df_routes[['SHIP_TO','EXT_ROUTE_ID', 'VISIT_NUMBER', 'VISIT_DURATION', 'PHOTOS_TARGET', 'DOCUMENTS_TARGET', 'PHOTOAUDIT_TARGET', 'REPEAT_DAYS']] = df_routes[['SHIP_TO','EXT_ROUTE_ID', 'VISIT_NUMBER', 'VISIT_DURATION', 'PHOTOS_TARGET', 'DOCUMENTS_TARGET', 'PHOTOAUDIT_TARGET', 'REPEAT_DAYS']].astype('int').astype('str')\n",
    "df_routes_HnN = pd.concat([df_routes_in_case, df_routes])\n",
    "df_routes_HnN.reset_index(inplace=True, drop=True)\n",
    "\n",
    "\n",
    "#df_routes_HnN['FIRST_VISIT_DATE'] = df_routes_HnN['FIRST_VISIT_DATE'].dt.strftime('%Y-%m-%d')\n",
    "#df_routes_HnN['FIRST_VISIT_DATE'] = df_routes_HnN['FIRST_VISIT_DATE'].astype('str')\n",
    "#df_routes_HnN['END_DATE'] = pd.to_datetime(df_routes_HnN['END_DATE'])\n",
    "#df_routes_HnN['END_DATE'] = df_routes_HnN['END_DATE'].dt.strftime('%Y-%m-%d')\n",
    "#df_routes_HnN['END_DATE'] = df_routes_HnN['END_DATE'].astype('str')\n",
    "\n",
    "\n",
    "#df_routes_HnN#['SHIP_TO'].unique()\n",
    "df_routes_HnN\n"
   ]
  },
  {
   "cell_type": "code",
   "execution_count": null,
   "metadata": {},
   "outputs": [],
   "source": [
    "df_routes_in_case['FIRST_VISIT_DATE'] = df_routes_in_case['FIRST_VISIT_DATE'].astype(str)\n"
   ]
  },
  {
   "cell_type": "code",
   "execution_count": null,
   "metadata": {},
   "outputs": [],
   "source": [
    "df_routes.dtypes"
   ]
  },
  {
   "cell_type": "code",
   "execution_count": null,
   "metadata": {},
   "outputs": [],
   "source": [
    "import pandas as pd\n",
    "import os.path \n",
    "import csv\n",
    "from interface import input_path, input_load_date\n",
    "from datetime import datetime, timedelta    \n",
    "from routes_export import export_new_routes_files\n",
    "pd.options.mode.chained_assignment = None\n",
    "\n",
    "\n",
    "def HnN_import_rtm_file(PATH):\n",
    "    df_rtm = pd.read_excel(PATH, sheet_name='MergeDATA', usecols='A:AM')#, engine = 'pyxlsb')\n",
    "    df_rtm = df_rtm.replace(r'\\n','', regex=True)\n",
    "    return df_rtm\n",
    "\n",
    "PATH = r\"C:\\Users\\ROKOTYEV\\Desktop\\TEST\\Формат - Фиксированные маршруты от Danone.xlsx\"\n",
    "df_rtm = HnN_import_rtm_file(PATH)"
   ]
  },
  {
   "cell_type": "code",
   "execution_count": null,
   "metadata": {},
   "outputs": [],
   "source": [
    "def HnN_rename_columns(df_rtm):\n",
    "    renames = {'Тип маршрута'                  :  'ROUTE_TYPE', \n",
    "               'ТТ SAP Код'                    :  'SHIP_TO', \n",
    "               'Наименование маршрута'         :  'ROUTE_NAME', \n",
    "               'Ответственный'                 :  'ROUTE_ID', \n",
    "               \t'Длительность визита (минут)'  :  'VISIT_DURATION',\n",
    "                'Агенство'                     :  'AGENCY_NAME',\n",
    "               'Weekly Frequency'              :  'FREQUENCY_RTM',\n",
    "               'РОЛЬ'                          :  'ROLE',\n",
    "               'Форма заказа'                  :  'ORDER_TYPE',\n",
    "               'СЦЕНАРИЙ'                      :  'SCENARIO'}\n",
    "    df_rtm.rename(columns=renames, inplace=True)\n",
    "\n",
    "    columns_list = ['ROUTE_TYPE','SHIP_TO','ROUTE_NAME','ROUTE_ID','FREQUENCY_RTM','AGENCY_NAME','VISIT_DURATION','ROLE','ORDER_TYPE','SCENARIO',\n",
    "                    'ПН1', 'ВТ1', 'СР1', 'ЧТ1', 'ПТ1', 'СБ1', 'ВС1', \n",
    "                    'ПН2', 'ВТ2', 'СР2', 'ЧТ2', 'ПТ2', 'СБ2', 'ВС2',\n",
    "                    'ПН3', 'ВТ3', 'СР3', 'ЧТ3', 'ПТ3', 'СБ3', 'ВС3', \n",
    "                    'ПН4', 'ВТ4', 'СР4', 'ЧТ4', 'ПТ4', 'СБ4', 'ВС4' ]\n",
    "    df_rtm = df_rtm[columns_list]\n",
    "    df_rtm = df_rtm.query(\"ROUTE_TYPE in ('TSS', 'ASM', 'SV') & ORDER_TYPE in ('FLEX', 'FIX')\")\n",
    "    df_rtm['SHIP_TO'] = df_rtm['SHIP_TO'].astype('float').astype('int').astype('str')\n",
    "    df_rtm['VISIT_DURATION'] = df_rtm['VISIT_DURATION'].astype('float').astype('int') \n",
    "    return df_rtm\n",
    "\n",
    "\n",
    "df_rtm = HnN_rename_columns(df_rtm)\n",
    "df_rtm.head(2)"
   ]
  },
  {
   "cell_type": "code",
   "execution_count": null,
   "metadata": {},
   "outputs": [],
   "source": [
    "df_rtm.loc[df_rtm['ROUTE_TYPE'] == 'TSS', 'ROUTE_TYPE'] = 'мерчендайзер'\n",
    "df_rtm.loc[df_rtm['ROUTE_TYPE'] == 'ASM', 'ROUTE_TYPE'] = 'Тим Лид'"
   ]
  },
  {
   "cell_type": "code",
   "execution_count": null,
   "metadata": {},
   "outputs": [],
   "source": [
    "df_rtm[['ROUTE_TYPE', 'ROLE']]"
   ]
  },
  {
   "cell_type": "code",
   "execution_count": null,
   "metadata": {},
   "outputs": [],
   "source": [
    "def check_wrong_order_type(df_rtm):\n",
    "    df_check_wrong_order_type = df_rtm.groupby(by=['ROUTE_NAME', 'ORDER_TYPE']).agg('size').reset_index().drop(columns=0)\n",
    "    df_check_wrong_order_type = df_check_wrong_order_type.groupby(by=['ROUTE_NAME']).agg('size').reset_index()\n",
    "    df_check_wrong_order_type = df_check_wrong_order_type.loc[df_check_wrong_order_type[0] > 1]\n",
    "\n",
    "    print(\"ВНИМАНИЕ! Эти маршруты не будут сконвертированы, так как сожержат не верный формат заказа: FIX и FLEX одновеменно\")\n",
    "    for _ in df_check_wrong_order_type['ROUTE_NAME'].to_list():\n",
    "        print(_)\n",
    "\n",
    "    df_rtm = pd.merge(df_rtm, df_check_wrong_order_type['ROUTE_NAME'], how='outer', on='ROUTE_NAME', indicator=True)\n",
    "    df_rtm = df_rtm.query(\"_merge != 'both'\").drop(columns='_merge')\n",
    "    return df_rtm\n"
   ]
  },
  {
   "cell_type": "code",
   "execution_count": null,
   "metadata": {},
   "outputs": [],
   "source": [
    "def check_wrong_route_type(df_rtm):\n",
    "    df_check_wrong_order_type = df_rtm.groupby(by=['ROUTE_NAME', 'ROUTE_TYPE']).agg('size').reset_index().drop(columns=0)\n",
    "    df_check_wrong_order_type = df_check_wrong_order_type.groupby(by=['ROUTE_NAME']).agg('size').reset_index()\n",
    "    df_check_wrong_order_type = df_check_wrong_order_type.loc[df_check_wrong_order_type[0] > 1]\n",
    "\n",
    "    print(\"ВНИМАНИЕ! Эти маршруты не будут сконвертированы, так как содержат задвоение типа маршрута: например, ASM и TSS одновеменно\")\n",
    "    for _ in df_check_wrong_order_type['ROUTE_NAME'].to_list():\n",
    "        print(_)\n",
    "\n",
    "    df_rtm = pd.merge(df_rtm, df_check_wrong_order_type['ROUTE_NAME'], how='outer', on='ROUTE_NAME', indicator=True)\n",
    "    df_rtm = df_rtm.query(\"_merge != 'both'\").drop(columns='_merge')\n",
    "    return df_rtm"
   ]
  },
  {
   "cell_type": "code",
   "execution_count": null,
   "metadata": {},
   "outputs": [],
   "source": [
    "def HnN_unpivot_rtm(df_rtm):\n",
    "    df_rtm_tss = pd.melt(df_rtm, id_vars=['ROUTE_TYPE','SHIP_TO','ROUTE_NAME','ROUTE_ID','FREQUENCY_RTM','AGENCY_NAME','VISIT_DURATION','ROLE','ORDER_TYPE','SCENARIO'])\n",
    "    renames = {'variable'  :  'DAY_NAME', \n",
    "               'value'     :  'VISIT_NUMBER'} \n",
    "    df_rtm_tss.rename(columns=renames, inplace=True)\n",
    "    filt = df_rtm_tss['VISIT_NUMBER'].notnull()\n",
    "    df_rtm_tss = df_rtm_tss[filt]\n",
    "    df_rtm_tss['WEEK_1234_ORDER'] = df_rtm_tss['DAY_NAME'].str[-1]\n",
    "    df_rtm_tss['WEEK_1234_ORDER'] = df_rtm_tss['WEEK_1234_ORDER'].astype('int')\n",
    "    df_rtm_tss['DAY_NAME']        = df_rtm_tss['DAY_NAME'].str[0:2]\n",
    "    df_rtm_tss['DAY_NAME']        = df_rtm_tss['DAY_NAME'].astype('str')\n",
    "    df_rtm_tss['EXT_ROUTE_ID']    = df_rtm_tss['ROUTE_NAME'].str.split('_').str[-1].str.strip()\n",
    "    df_rtm_tss['ROW_NUMBER']      = df_rtm_tss.groupby(by=['ROUTE_NAME','DAY_NAME','WEEK_1234_ORDER' ]).cumcount()+1\n",
    "    df_rtm_tss.loc[df_rtm_tss['VISIT_NUMBER'] == 1, ['VISIT_NUMBER']] = df_rtm_tss['ROW_NUMBER']\n",
    "    df_rtm_tss['SHIP_TO'] = df_rtm_tss['SHIP_TO'].astype('float').astype('int').astype('str')\n",
    "    return df_rtm_tss\n",
    "\n",
    "df_rtm = HnN_unpivot_rtm(df_rtm)\n",
    "df_rtm.head(2)"
   ]
  },
  {
   "cell_type": "code",
   "execution_count": null,
   "metadata": {},
   "outputs": [],
   "source": [
    "#Формируем календарь на год вперед\n",
    "def HnN_create_calender(DATE_OF_LOAD):\n",
    "    df_calender = pd.DataFrame(pd.date_range('2023-11-27', '2024-12-31'), columns=['DATE'] )\n",
    "    df_calender['WEEKDAY_NUMBER'] = df_calender['DATE'].dt.weekday+1\n",
    "    df_calender['DAY_NAME'] = df_calender['WEEKDAY_NUMBER'] \n",
    "    df_calender['WEEK_NUMBER'] = df_calender['DATE'].dt.strftime(\"%W\").astype('int')+ 1  #еще можно так .dt.isocalendar().week, но тут не стандартные номера недель\n",
    "    df_calender['WEEK_1234_ORDER'] = ((df_calender['WEEK_NUMBER']  / 4)  - (df_calender['WEEK_NUMBER']  // 4)) * 4\n",
    "    df_calender.loc[df_calender['WEEK_1234_ORDER'] == 0 ,   'WEEK_1234_ORDER'] = 4\n",
    "    df_calender['WEEK_1234_ORDER'] = df_calender['WEEK_1234_ORDER'].astype('int')\n",
    "    df_calender.replace({'DAY_NAME' : { 1 : 'ПН', 2 : 'ВТ', 3 : 'СР', 4 : 'ЧТ', 5 : 'ПТ', 6 : 'СБ', 7 : 'ВС'}}, inplace=True)\n",
    "    DATE_OF_END = pd.to_datetime(DATE_OF_LOAD, format='%d.%m.%Y') +  + timedelta(days=60)  #Пробрасываем маршруты на этот перид\n",
    "    filt = (df_calender['DATE'] >= pd.to_datetime(DATE_OF_LOAD, dayfirst=True)) & (df_calender['DATE'] <= DATE_OF_END)\n",
    "    df_calender = df_calender[filt]\n",
    "    return df_calender\n",
    "\n",
    "DATE_OF_LOAD = \"28.11.2023\"\n",
    "df_calender = HnN_create_calender(DATE_OF_LOAD)\n",
    "df_calender.head(2)"
   ]
  },
  {
   "cell_type": "code",
   "execution_count": null,
   "metadata": {},
   "outputs": [],
   "source": [
    "def HnN_converting_FIX_rtm_to_routes(df_rtm, df_calender): \n",
    "   #Оставляем только часть заказа с фиксированными маршрутами\n",
    "    df_rtm_keys = df_rtm.query(\"ROUTE_TYPE in ('TSS') & ORDER_TYPE in ('FIX')\")\n",
    "   #Создаем матрицу: всем маршруто-точки и все дни\n",
    "    df_rtm_keys = df_rtm.groupby(by=['SHIP_TO', 'ROUTE_NAME']).agg('size').reset_index().drop(columns=0)\n",
    "    df_rtm_keys = df_rtm_keys[['SHIP_TO', 'ROUTE_NAME']]\n",
    "    df_routes = pd.merge(df_rtm_keys, df_calender, how='cross' )\n",
    "   #Добавляем к матрице заказ и удаляем лишние (пустые) строки\n",
    "    df_routes = pd.merge(df_routes, df_rtm[['SHIP_TO', 'ROUTE_NAME', 'EXT_ROUTE_ID', 'DAY_NAME', 'WEEK_1234_ORDER', 'VISIT_NUMBER', 'AGENCY_NAME', 'VISIT_DURATION', 'ROUTE_TYPE']], how='left',  on=['SHIP_TO', 'ROUTE_NAME', 'DAY_NAME', 'WEEK_1234_ORDER'])\n",
    "    df_routes.dropna(subset=['VISIT_NUMBER'], inplace=True)\n",
    "   #Дозаполняем необходимые поля\n",
    "    df_routes.rename(columns={'DATE': 'FIRST_VISIT_DATE'}, inplace=True)                                                                                                                                                    \n",
    "    df_routes.loc[ df_routes['VISIT_DURATION'] < 5, ['VISIT_DURATION']]= '5'\n",
    "    df_routes['VISIT_DURATION'] = df_routes['VISIT_DURATION'].astype('float').astype('int').astype('str')   \n",
    "    df_routes['VISIT_NUMBER'] = df_routes['VISIT_NUMBER'].astype('int').astype('str') \n",
    "    df_routes['EXT_ROUTE_ID'] = '0000' + df_routes['EXT_ROUTE_ID'].astype('str')\n",
    "    df_routes['EXT_ROUTE_ID'] = df_routes['EXT_ROUTE_ID'].str[-4:]  \n",
    "    df_routes['PHOTOS_TARGET'] = '10'     # - Задай им 1 или 0, Система будет их требовать, нужна какая-нибудь циферка, если хотим совсем невалидное можно -1 указать, допустимо любое число.\n",
    "    df_routes['DOCUMENTS_TARGET'] = '8'   # - Задай им 1 или 0, Система будет их требовать, нужна какая-нибудь циферка, если хотим совсем невалидное можно -1 указать, допустимо любое число.\n",
    "    df_routes['PHOTOAUDIT_TARGET']= '1'   # - Задай им 1 или 0, Система будет их требовать, нужна какая-нибудь циферка, если хотим совсем невалидное можно -1 указать, допустимо любое число.\n",
    "    df_routes['END_DATE']  = '2024-12-31'\n",
    "    df_routes['REPEAT_DAYS']  = '0'  # Все  визиты  грузим как разовые, без повторений\n",
    "    df_routes['SHIP_TO'] = df_routes['SHIP_TO'].astype('float').astype('int').astype('str')\n",
    "    df_routes[' FIRST_VISIT_DATE'] = df_routes['FIRST_VISIT_DATE'].astype('str')\n",
    "   #Упорядочиваем данные\n",
    "    df_routes.drop(columns=['WEEKDAY_NUMBER', 'DAY_NAME', 'WEEK_NUMBER', 'WEEK_1234_ORDER'], inplace=True)\n",
    "    df_routes = df_routes[['SHIP_TO', 'ROUTE_NAME', 'FIRST_VISIT_DATE', 'EXT_ROUTE_ID','VISIT_NUMBER', 'AGENCY_NAME', 'VISIT_DURATION', 'ROUTE_TYPE','PHOTOS_TARGET', 'DOCUMENTS_TARGET', 'PHOTOAUDIT_TARGET', 'END_DATE','REPEAT_DAYS']]\n",
    "    return df_routes\n",
    "\n",
    "df_routes_tss_fix = HnN_converting_FIX_rtm_to_routes(df_rtm, df_calender)\n",
    "df_routes_tss_fix"
   ]
  },
  {
   "cell_type": "code",
   "execution_count": null,
   "metadata": {},
   "outputs": [],
   "source": [
    "Замена АСМов на Тим Лид\"... и ТСС на \"Мерч\"\n",
    "df_rtm.query(\"ROUTE_TYPE in ('TSS', 'ASM', 'SV') & ORDER_TYPE in ('FLEX', 'FIX')\")"
   ]
  },
  {
   "cell_type": "code",
   "execution_count": null,
   "metadata": {},
   "outputs": [],
   "source": [
    "def HnN_converting_FLEX_rtm_to_routes(df_rtm):\n",
    "    df_rtm.query(\"ORDER_TYPE in ('FLEX')\")     #ROUTE_TYPE in ('TSS') &\n",
    "    df_rtm = df_rtm.groupby(by=['AGENCY_NAME', 'ROUTE_NAME', 'ROUTE_TYPE', 'SHIP_TO']).agg('size').reset_index().drop(columns=0)\n",
    "    df_rtm['EXT_ROUTE_ID'] = df_rtm['ROUTE_NAME'].str.split('_').str[-1].str.strip()\n",
    "    df_rtm['EXT_ROUTE_ID'] = '0000' + df_rtm['EXT_ROUTE_ID'].astype('str')\n",
    "    df_rtm['EXT_ROUTE_ID'] = df_rtm['EXT_ROUTE_ID'].str[-4:]\n",
    "    df_rtm['FIRST_VISIT_DATE'] = '2024-12-30'\n",
    "    df_rtm['REPEAT_DAYS']    = '0'\n",
    "    df_rtm['VISIT_NUMBER']   = '1'\n",
    "    df_rtm['VISIT_DURATION'] = '100' \n",
    "    df_rtm['PHOTOS_TARGET'] = '5' \n",
    "    df_rtm['DOCUMENTS_TARGET'] = '5' \n",
    "    df_rtm['PHOTOAUDIT_TARGET'] = '1' \n",
    "    df_rtm['END_DATE'] = '2024-12-31'\n",
    "    df_routes = df_rtm[['SHIP_TO', 'ROUTE_NAME', 'FIRST_VISIT_DATE', 'EXT_ROUTE_ID','VISIT_NUMBER', 'AGENCY_NAME', 'VISIT_DURATION', 'ROUTE_TYPE','PHOTOS_TARGET', 'DOCUMENTS_TARGET', 'PHOTOAUDIT_TARGET', 'END_DATE','REPEAT_DAYS']]\n",
    "    return df_routes\n",
    "\n",
    "df_routes_tss_flex = HnN_converting_FLEX_rtm_to_routes(df_rtm)\n",
    "df_routes_tss_flex"
   ]
  },
  {
   "cell_type": "code",
   "execution_count": null,
   "metadata": {},
   "outputs": [],
   "source": [
    "def HnN_union_FLEX_n_FIX_routes(df_routes_tss_fix, df_routes_tss_flex):\n",
    "    df_routes = pd.concat([df_routes_tss_fix, df_routes_tss_flex])    \n",
    "    return df_routes\n",
    "\n",
    "df_routes = HnN_union_FLEX_n_FIX_routes(df_routes_tss_fix, df_routes_tss_flex)"
   ]
  },
  {
   "cell_type": "code",
   "execution_count": null,
   "metadata": {},
   "outputs": [],
   "source": [
    "se_routes_tss_fix = pd.Series(df_routes_tss_fix.columns, name='Col')\n",
    "se_routes_tss_flex = pd.Series(df_routes_tss_flex.columns, name='Col')\n",
    "pd.merge(se_routes_tss_fix, se_routes_tss_flex, how='outer', indicator=True)"
   ]
  },
  {
   "cell_type": "code",
   "execution_count": null,
   "metadata": {},
   "outputs": [],
   "source": [
    "DATE_OF_LOAD = \"28.11.2023\"\n",
    "def add_empty_shipto(df_routes, DATE_OF_LOAD):\n",
    "    #Добавляем пустую точку чтобы обозначить системе, что данны маршрут надо целиком перезаписать\n",
    "    #Danone|TestTerritory_3_Dub33|Dub33|Мерчандайзер||2023-05-08|7|1|130||||\n",
    "    df_routes_in_case = df_routes.groupby(by=['AGENCY_NAME', 'ROUTE_NAME', 'EXT_ROUTE_ID','ROUTE_TYPE']).agg('size').reset_index().drop(columns=0)\n",
    "    df_routes_in_case['FIRST_VISIT_DATE'] = pd.to_datetime(DATE_OF_LOAD, format='%d.%m.%Y')\n",
    "    df_routes_in_case['REPEAT_DAYS']    = '7'\n",
    "    df_routes_in_case['VISIT_NUMBER']   = '1'\n",
    "    df_routes_in_case['VISIT_DURATION'] = '130' \n",
    "    df_routes_in_case['SHIP_TO'] = ''\n",
    "    df_routes_in_case[['WEEKDAY_NUMBER', 'DAY_NAME', 'WEEK_NUMBER', 'WEEK_1234_ORDER', 'PHOTOS_TARGET', 'DOCUMENTS_TARGET', 'PHOTOAUDIT_TARGET', 'END_DATE']] = ''\n",
    "    df_routes_in_case = df_routes_in_case[['SHIP_TO', 'ROUTE_NAME', 'FIRST_VISIT_DATE', 'WEEKDAY_NUMBER', 'DAY_NAME', 'WEEK_NUMBER', 'WEEK_1234_ORDER', 'EXT_ROUTE_ID',  'VISIT_NUMBER', 'AGENCY_NAME', 'VISIT_DURATION', 'ROUTE_TYPE',  'PHOTOS_TARGET', 'DOCUMENTS_TARGET', 'PHOTOAUDIT_TARGET', 'END_DATE',  'REPEAT_DAYS']]\n",
    "    df_routes_flex = pd.concat([df_routes_in_case, df_routes])\n",
    "    df_routes['FIRST_VISIT_DATE'] = pd.to_datetime(df_routes['FIRST_VISIT_DATE'])\n",
    "    df_routes['FIRST_VISIT_DATE'] = df_routes['FIRST_VISIT_DATE'].dt.strftime('%Y-%m-%d')\n",
    "    df_routes['FIRST_VISIT_DATE'] = df_routes['FIRST_VISIT_DATE'].astype('str')\n",
    "    df_routes['END_DATE'] = pd.to_datetime(df_routes['END_DATE'])\n",
    "    df_routes['END_DATE'] = df_routes['END_DATE'].dt.strftime('%Y-%m-%d')\n",
    "    df_routes['END_DATE'] = df_routes['END_DATE'].astype('str')\n",
    "    df_routes[['SHIP_TO','EXT_ROUTE_ID', 'VISIT_NUMBER', 'VISIT_DURATION', 'PHOTOS_TARGET', 'DOCUMENTS_TARGET', 'PHOTOAUDIT_TARGET', 'REPEAT_DAYS']] = df_routes[['SHIP_TO','EXT_ROUTE_ID', 'VISIT_NUMBER', 'VISIT_DURATION', 'PHOTOS_TARGET', 'DOCUMENTS_TARGET', 'PHOTOAUDIT_TARGET', 'REPEAT_DAYS']].astype('int').astype('str')\n",
    "    return df_routes\n",
    "\n",
    "df_routes = add_empty_shipto(df_routes, DATE_OF_LOAD)\n",
    "\n",
    "df_routes"
   ]
  },
  {
   "cell_type": "code",
   "execution_count": null,
   "metadata": {},
   "outputs": [],
   "source": [
    "export_HnN_routes_files"
   ]
  }
 ],
 "metadata": {
  "kernelspec": {
   "display_name": "base",
   "language": "python",
   "name": "python3"
  },
  "language_info": {
   "codemirror_mode": {
    "name": "ipython",
    "version": 3
   },
   "file_extension": ".py",
   "mimetype": "text/x-python",
   "name": "python",
   "nbconvert_exporter": "python",
   "pygments_lexer": "ipython3",
   "version": "3.11.5"
  }
 },
 "nbformat": 4,
 "nbformat_minor": 2
}
